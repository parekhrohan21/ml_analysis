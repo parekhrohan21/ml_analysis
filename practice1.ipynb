{
 "cells": [
  {
   "cell_type": "markdown",
   "id": "c31ded1e",
   "metadata": {},
   "source": [
    "Downloading the dataset"
   ]
  },
  {
   "cell_type": "code",
   "execution_count": null,
   "id": "0c440b5d",
   "metadata": {},
   "outputs": [],
   "source": [
    "import numpy as np # linear algebra\n",
    "import pandas as pd # data processing\n",
    "import matplotlib.pyplot as plt\n",
    "import seaborn as sns\n",
    "import plotly as py\n",
    "import plotly.graph_objs as go\n",
    "# read the dataset\n",
    "data = pd.read_csv('online_shoppers_intention.csv') "
   ]
  },
  {
   "cell_type": "code",
   "execution_count": null,
   "id": "703e2f84",
   "metadata": {},
   "outputs": [],
   "source": []
  }
 ],
 "metadata": {
  "language_info": {
   "name": "python"
  }
 },
 "nbformat": 4,
 "nbformat_minor": 5
}
