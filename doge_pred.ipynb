{
 "cells": [
  {
   "cell_type": "code",
   "execution_count": 6,
   "id": "af321fce",
   "metadata": {},
   "outputs": [
    {
     "data": {
      "text/plain": [
       "<bound method NDFrame.head of            Date      Open      High       Low     Close  Adj Close  \\\n",
       "0    2017-11-09  0.001207  0.001415  0.001181  0.001415   0.001415   \n",
       "1    2017-11-10  0.001421  0.001431  0.001125  0.001163   0.001163   \n",
       "2    2017-11-11  0.001146  0.001257  0.001141  0.001201   0.001201   \n",
       "3    2017-11-12  0.001189  0.001210  0.001002  0.001038   0.001038   \n",
       "4    2017-11-13  0.001046  0.001212  0.001019  0.001211   0.001211   \n",
       "...         ...       ...       ...       ...       ...        ...   \n",
       "1756 2022-08-31  0.061534  0.063333  0.061058  0.061330   0.061330   \n",
       "1757 2022-09-01  0.061336  0.062479  0.060194  0.062372   0.062372   \n",
       "1758 2022-09-02  0.062372  0.062712  0.060947  0.061635   0.061635   \n",
       "1759 2022-09-03       NaN       NaN       NaN       NaN        NaN   \n",
       "1760 2022-09-04  0.062682  0.062744  0.062667  0.062696   0.062696   \n",
       "\n",
       "           Volume  \n",
       "0       6259550.0  \n",
       "1       4246520.0  \n",
       "2       2231080.0  \n",
       "3       3288960.0  \n",
       "4       2481270.0  \n",
       "...           ...  \n",
       "1756  309748693.0  \n",
       "1757  328765413.0  \n",
       "1758  273453013.0  \n",
       "1759          NaN  \n",
       "1760  297513408.0  \n",
       "\n",
       "[1761 rows x 7 columns]>"
      ]
     },
     "execution_count": 6,
     "metadata": {},
     "output_type": "execute_result"
    }
   ],
   "source": [
    "import pandas as pd\n",
    "import numpy as np\n",
    "import matplotlib.pyplot as plt\n",
    "import seaborn as sns\n",
    "import datetime\n",
    "import os\n",
    "\n",
    "\n",
    "df= pd.read_csv('DOGE-USD.csv', encoding='utf-8')\n",
    "df['Date'] = pd.to_datetime(df['Date'])\n",
    "\n",
    "\n",
    "\n",
    "\n",
    "df.head"
   ]
  }
 ],
 "metadata": {
  "kernelspec": {
   "display_name": "Python 3",
   "language": "python",
   "name": "python3"
  },
  "language_info": {
   "codemirror_mode": {
    "name": "ipython",
    "version": 3
   },
   "file_extension": ".py",
   "mimetype": "text/x-python",
   "name": "python",
   "nbconvert_exporter": "python",
   "pygments_lexer": "ipython3",
   "version": "3.6.8"
  }
 },
 "nbformat": 4,
 "nbformat_minor": 5
}
