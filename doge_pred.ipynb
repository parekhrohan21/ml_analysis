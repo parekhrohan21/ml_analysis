{
 "cells": [
  {
   "cell_type": "code",
   "execution_count": null,
   "id": "af321fce",
   "metadata": {},
   "outputs": [],
   "source": [
    "import pandas as pd\n",
    "import numpy as np\n",
    "import os\n",
    "import sys\n",
    "import argparse\n",
    "\n",
    "df= pd.read_csv(sys.stdin, sep=\"\\t\", header=None)\n",
    "df.columns = [\"chr\", \"start\", \"end\", \"name\", \"score\", \"strand\", \"thickStart\", \"thickEnd\", \"itemRgb\"]\n",
    "df[\"start\"] = df[\"start\"].astype(int)\n",
    "df[\"end\"] = df[\"end\"].astype(int)\n",
    "\n",
    "\n",
    "df.head"
   ]
  }
 ],
 "metadata": {
  "language_info": {
   "name": "python"
  }
 },
 "nbformat": 4,
 "nbformat_minor": 5
}
