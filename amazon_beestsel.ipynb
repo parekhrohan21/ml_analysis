{
 "cells": [
  {
   "cell_type": "code",
   "execution_count": 1,
   "id": "2fbe7607",
   "metadata": {},
   "outputs": [
    {
     "name": "stdout",
     "output_type": "stream",
     "text": [
      "<class 'pandas.core.frame.DataFrame'>\n",
      "RangeIndex: 550 entries, 0 to 549\n",
      "Data columns (total 7 columns):\n",
      " #   Column       Non-Null Count  Dtype  \n",
      "---  ------       --------------  -----  \n",
      " 0   Name         550 non-null    object \n",
      " 1   Author       550 non-null    object \n",
      " 2   User Rating  550 non-null    float64\n",
      " 3   Reviews      550 non-null    int64  \n",
      " 4   Price        550 non-null    int64  \n",
      " 5   Year         550 non-null    int64  \n",
      " 6   Genre        550 non-null    object \n",
      "dtypes: float64(1), int64(3), object(3)\n",
      "memory usage: 30.2+ KB\n"
     ]
    },
    {
     "data": {
      "application/vnd.microsoft.datawrangler.viewer.v0+json": {
       "columns": [
        {
         "name": "index",
         "rawType": "int64",
         "type": "integer"
        },
        {
         "name": "Name",
         "rawType": "object",
         "type": "string"
        },
        {
         "name": "Author",
         "rawType": "object",
         "type": "string"
        },
        {
         "name": "User Rating",
         "rawType": "float64",
         "type": "float"
        },
        {
         "name": "Reviews",
         "rawType": "int64",
         "type": "integer"
        },
        {
         "name": "Price",
         "rawType": "int64",
         "type": "integer"
        },
        {
         "name": "Year",
         "rawType": "int64",
         "type": "integer"
        },
        {
         "name": "Genre",
         "rawType": "object",
         "type": "string"
        }
       ],
       "conversionMethod": "pd.DataFrame",
       "ref": "bddcf0aa-8746-4de8-8dc5-b48c2d5a25d9",
       "rows": [
        [
         "0",
         "10-Day Green Smoothie Cleanse",
         "JJ Smith",
         "4.7",
         "17350",
         "8",
         "2016",
         "Non Fiction"
        ],
        [
         "1",
         "11/22/63: A Novel",
         "Stephen King",
         "4.6",
         "2052",
         "22",
         "2011",
         "Fiction"
        ],
        [
         "2",
         "12 Rules for Life: An Antidote to Chaos",
         "Jordan B. Peterson",
         "4.7",
         "18979",
         "15",
         "2018",
         "Non Fiction"
        ],
        [
         "3",
         "1984 (Signet Classics)",
         "George Orwell",
         "4.7",
         "21424",
         "6",
         "2017",
         "Fiction"
        ],
        [
         "4",
         "5,000 Awesome Facts (About Everything!) (National Geographic Kids)",
         "National Geographic Kids",
         "4.8",
         "7665",
         "12",
         "2019",
         "Non Fiction"
        ],
        [
         "5",
         "A Dance with Dragons (A Song of Ice and Fire)",
         "George R. R. Martin",
         "4.4",
         "12643",
         "11",
         "2011",
         "Fiction"
        ],
        [
         "6",
         "A Game of Thrones / A Clash of Kings / A Storm of Swords / A Feast of Crows / A Dance with Dragons",
         "George R. R. Martin",
         "4.7",
         "19735",
         "30",
         "2014",
         "Fiction"
        ],
        [
         "7",
         "A Gentleman in Moscow: A Novel",
         "Amor Towles",
         "4.7",
         "19699",
         "15",
         "2017",
         "Fiction"
        ],
        [
         "8",
         "A Higher Loyalty: Truth, Lies, and Leadership",
         "James Comey",
         "4.7",
         "5983",
         "3",
         "2018",
         "Non Fiction"
        ],
        [
         "9",
         "A Man Called Ove: A Novel",
         "Fredrik Backman",
         "4.6",
         "23848",
         "8",
         "2016",
         "Fiction"
        ]
       ],
       "shape": {
        "columns": 7,
        "rows": 10
       }
      },
      "text/html": [
       "<div>\n",
       "<style scoped>\n",
       "    .dataframe tbody tr th:only-of-type {\n",
       "        vertical-align: middle;\n",
       "    }\n",
       "\n",
       "    .dataframe tbody tr th {\n",
       "        vertical-align: top;\n",
       "    }\n",
       "\n",
       "    .dataframe thead th {\n",
       "        text-align: right;\n",
       "    }\n",
       "</style>\n",
       "<table border=\"1\" class=\"dataframe\">\n",
       "  <thead>\n",
       "    <tr style=\"text-align: right;\">\n",
       "      <th></th>\n",
       "      <th>Name</th>\n",
       "      <th>Author</th>\n",
       "      <th>User Rating</th>\n",
       "      <th>Reviews</th>\n",
       "      <th>Price</th>\n",
       "      <th>Year</th>\n",
       "      <th>Genre</th>\n",
       "    </tr>\n",
       "  </thead>\n",
       "  <tbody>\n",
       "    <tr>\n",
       "      <th>0</th>\n",
       "      <td>10-Day Green Smoothie Cleanse</td>\n",
       "      <td>JJ Smith</td>\n",
       "      <td>4.7</td>\n",
       "      <td>17350</td>\n",
       "      <td>8</td>\n",
       "      <td>2016</td>\n",
       "      <td>Non Fiction</td>\n",
       "    </tr>\n",
       "    <tr>\n",
       "      <th>1</th>\n",
       "      <td>11/22/63: A Novel</td>\n",
       "      <td>Stephen King</td>\n",
       "      <td>4.6</td>\n",
       "      <td>2052</td>\n",
       "      <td>22</td>\n",
       "      <td>2011</td>\n",
       "      <td>Fiction</td>\n",
       "    </tr>\n",
       "    <tr>\n",
       "      <th>2</th>\n",
       "      <td>12 Rules for Life: An Antidote to Chaos</td>\n",
       "      <td>Jordan B. Peterson</td>\n",
       "      <td>4.7</td>\n",
       "      <td>18979</td>\n",
       "      <td>15</td>\n",
       "      <td>2018</td>\n",
       "      <td>Non Fiction</td>\n",
       "    </tr>\n",
       "    <tr>\n",
       "      <th>3</th>\n",
       "      <td>1984 (Signet Classics)</td>\n",
       "      <td>George Orwell</td>\n",
       "      <td>4.7</td>\n",
       "      <td>21424</td>\n",
       "      <td>6</td>\n",
       "      <td>2017</td>\n",
       "      <td>Fiction</td>\n",
       "    </tr>\n",
       "    <tr>\n",
       "      <th>4</th>\n",
       "      <td>5,000 Awesome Facts (About Everything!) (Natio...</td>\n",
       "      <td>National Geographic Kids</td>\n",
       "      <td>4.8</td>\n",
       "      <td>7665</td>\n",
       "      <td>12</td>\n",
       "      <td>2019</td>\n",
       "      <td>Non Fiction</td>\n",
       "    </tr>\n",
       "    <tr>\n",
       "      <th>5</th>\n",
       "      <td>A Dance with Dragons (A Song of Ice and Fire)</td>\n",
       "      <td>George R. R. Martin</td>\n",
       "      <td>4.4</td>\n",
       "      <td>12643</td>\n",
       "      <td>11</td>\n",
       "      <td>2011</td>\n",
       "      <td>Fiction</td>\n",
       "    </tr>\n",
       "    <tr>\n",
       "      <th>6</th>\n",
       "      <td>A Game of Thrones / A Clash of Kings / A Storm...</td>\n",
       "      <td>George R. R. Martin</td>\n",
       "      <td>4.7</td>\n",
       "      <td>19735</td>\n",
       "      <td>30</td>\n",
       "      <td>2014</td>\n",
       "      <td>Fiction</td>\n",
       "    </tr>\n",
       "    <tr>\n",
       "      <th>7</th>\n",
       "      <td>A Gentleman in Moscow: A Novel</td>\n",
       "      <td>Amor Towles</td>\n",
       "      <td>4.7</td>\n",
       "      <td>19699</td>\n",
       "      <td>15</td>\n",
       "      <td>2017</td>\n",
       "      <td>Fiction</td>\n",
       "    </tr>\n",
       "    <tr>\n",
       "      <th>8</th>\n",
       "      <td>A Higher Loyalty: Truth, Lies, and Leadership</td>\n",
       "      <td>James Comey</td>\n",
       "      <td>4.7</td>\n",
       "      <td>5983</td>\n",
       "      <td>3</td>\n",
       "      <td>2018</td>\n",
       "      <td>Non Fiction</td>\n",
       "    </tr>\n",
       "    <tr>\n",
       "      <th>9</th>\n",
       "      <td>A Man Called Ove: A Novel</td>\n",
       "      <td>Fredrik Backman</td>\n",
       "      <td>4.6</td>\n",
       "      <td>23848</td>\n",
       "      <td>8</td>\n",
       "      <td>2016</td>\n",
       "      <td>Fiction</td>\n",
       "    </tr>\n",
       "  </tbody>\n",
       "</table>\n",
       "</div>"
      ],
      "text/plain": [
       "                                                Name  \\\n",
       "0                      10-Day Green Smoothie Cleanse   \n",
       "1                                  11/22/63: A Novel   \n",
       "2            12 Rules for Life: An Antidote to Chaos   \n",
       "3                             1984 (Signet Classics)   \n",
       "4  5,000 Awesome Facts (About Everything!) (Natio...   \n",
       "5      A Dance with Dragons (A Song of Ice and Fire)   \n",
       "6  A Game of Thrones / A Clash of Kings / A Storm...   \n",
       "7                     A Gentleman in Moscow: A Novel   \n",
       "8      A Higher Loyalty: Truth, Lies, and Leadership   \n",
       "9                          A Man Called Ove: A Novel   \n",
       "\n",
       "                     Author  User Rating  Reviews  Price  Year        Genre  \n",
       "0                  JJ Smith          4.7    17350      8  2016  Non Fiction  \n",
       "1              Stephen King          4.6     2052     22  2011      Fiction  \n",
       "2        Jordan B. Peterson          4.7    18979     15  2018  Non Fiction  \n",
       "3             George Orwell          4.7    21424      6  2017      Fiction  \n",
       "4  National Geographic Kids          4.8     7665     12  2019  Non Fiction  \n",
       "5       George R. R. Martin          4.4    12643     11  2011      Fiction  \n",
       "6       George R. R. Martin          4.7    19735     30  2014      Fiction  \n",
       "7               Amor Towles          4.7    19699     15  2017      Fiction  \n",
       "8               James Comey          4.7     5983      3  2018  Non Fiction  \n",
       "9           Fredrik Backman          4.6    23848      8  2016      Fiction  "
      ]
     },
     "execution_count": 1,
     "metadata": {},
     "output_type": "execute_result"
    }
   ],
   "source": [
    "import pandas as pd\n",
    "import numpy as np\n",
    "import os\n",
    "import sys\n",
    "import argparse\n",
    "import logging\n",
    "import json\n",
    "import re\n",
    "\n",
    "data = pd.read_csv('bestsellers_with_categories.csv', encoding='utf-8')\n",
    "import matplotlib.pyplot as plt\n",
    "\n",
    "data.head\n",
    "data.columns\n",
    "data.info()\n",
    "\n",
    "# print top 10 values \n",
    "data.head(10)"
   ]
  },
  {
   "cell_type": "code",
   "execution_count": 2,
   "id": "79af0084",
   "metadata": {},
   "outputs": [
    {
     "name": "stdout",
     "output_type": "stream",
     "text": [
      "Missing values in each column:\n",
      "Name           0\n",
      "Author         0\n",
      "User Rating    0\n",
      "Reviews        0\n",
      "Price          0\n",
      "Year           0\n",
      "Genre          0\n",
      "dtype: int64\n"
     ]
    },
    {
     "data": {
      "image/png": "[encoded data removed]",
      "text/plain": [
       "<Figure size 720x432 with 1 Axes>"
      ]
     },
     "metadata": {
      "needs_background": "light"
     },
     "output_type": "display_data"
    }
   ],
   "source": [
    "# check for missing values\n",
    "missing_values = data.isnull().sum()\n",
    "print(\"Missing values in each column:\")\n",
    "print(missing_values)\n",
    "# create graph to understand the data\n",
    "def plot_graph(data):\n",
    "    plt.figure(figsize=(10, 6))\n",
    "    plt.bar(data['Year'], data['User Rating'])\n",
    "    plt.xlabel('Year')\n",
    "    plt.ylabel('User Rating')\n",
    "    plt.title('User Ratings of Bestselling Books')\n",
    "    plt.xticks(rotation=90)\n",
    "    plt.tight_layout()\n",
    "    plt.show()\n",
    "\n",
    "\n",
    "# print graph\n",
    "def print_graph():\n",
    "    plt.figure(figsize=(10, 6))\n",
    "    plt.bar(data['Year'], data['User Rating'])\n",
    "    plt.xlabel('Year')\n",
    "    plt.ylabel('User Rating')\n",
    "    plt.title('User Ratings of Bestselling Books')\n",
    "    plt.xticks(rotation=90)\n",
    "    plt.tight_layout()\n",
    "    plt.show()\n",
    "\n",
    "\n",
    "# call print graph\n",
    "print_graph()"
   ]
  },
  {
   "cell_type": "code",
   "execution_count": 3,
   "id": "ad534a07",
   "metadata": {},
   "outputs": [
    {
     "data": {
      "image/png": "[encoded data removed]",
      "text/plain": [
       "<Figure size 720x432 with 1 Axes>"
      ]
     },
     "metadata": {},
     "output_type": "display_data"
    },
    {
     "data": {
      "image/png": "[encoded data removed]",
      "text/plain": [
       "<Figure size 720x432 with 1 Axes>"
      ]
     },
     "metadata": {
      "needs_background": "light"
     },
     "output_type": "display_data"
    }
   ],
   "source": [
    "# create a pie chart on price and genre \n",
    "def plot_pie_chart(data):\n",
    "    plt.figure(figsize=(10, 6))\n",
    "    data['Genre'].value_counts().plot.pie(autopct='%1.1f%%', startangle=90)\n",
    "    plt.title('Distribution of Genres in Bestselling Books')\n",
    "    plt.ylabel('')\n",
    "    plt.show()\n",
    "\n",
    "# call plot pie chart\n",
    "plot_pie_chart(data)\n",
    "\n",
    "\n",
    "\n",
    "\n",
    "# create a bar graph on price and genre\n",
    "\n",
    "def plot_genre_price(data):\n",
    "    plt.figure(figsize=(10, 6))\n",
    "    plt.bar(data['Genre'], data['Price'])\n",
    "    plt.xlabel('Genre')\n",
    "    plt.ylabel('Price')\n",
    "    plt.title('Price of Bestselling Books by Genre')\n",
    "    plt.xticks(rotation=90)\n",
    "    plt.tight_layout()\n",
    "    plt.show()\n",
    "\n",
    "# call plot_genre_price\n",
    "plot_genre_price(data)"
   ]
  },
  {
   "cell_type": "markdown",
   "id": "37c48478",
   "metadata": {},
   "source": [
    "based on the above chart we can see and explain that more books are sold on non fiction than fiction "
   ]
  },
  {
   "cell_type": "code",
   "execution_count": 4,
   "id": "d297af60",
   "metadata": {},
   "outputs": [
    {
     "data": {
      "image/png": "[encoded data removed]",
      "text/plain": [
       "<Figure size 720x432 with 1 Axes>"
      ]
     },
     "metadata": {
      "needs_background": "light"
     },
     "output_type": "display_data"
    }
   ],
   "source": [
    "# create a graph on price and user rating\n",
    "def plot_price_user_rating(data):\n",
    "    plt.figure(figsize=(10, 6))\n",
    "    plt.bar(data['Price'], data['User Rating'])\n",
    "    plt.xlabel('Price')\n",
    "    plt.ylabel('User Rating')\n",
    "    plt.title('User Ratings of Bestselling Books by Price')\n",
    "    plt.xticks(rotation=90)\n",
    "    plt.tight_layout()\n",
    "    plt.show()\n",
    "\n",
    "# call plot_price_user_rating\n",
    "plot_price_user_rating(data)"
   ]
  },
  {
   "cell_type": "code",
   "execution_count": 5,
   "id": "12b090da",
   "metadata": {},
   "outputs": [
    {
     "name": "stdout",
     "output_type": "stream",
     "text": [
      "Mean Squared Error: 0.071474613329341\n",
      "R^2 Score: -0.24581218854080378\n"
     ]
    },
    {
     "ename": "NameError",
     "evalue": "name 'label_encoder' is not defined",
     "output_type": "error",
     "traceback": [
      "\u001b[1;31m---------------------------------------------------------------------------\u001b[0m",
      "\u001b[1;31mNameError\u001b[0m                                 Traceback (most recent call last)",
      "\u001b[1;32m<ipython-input-5-64d69e9be6d7>\u001b[0m in \u001b[0;36m<module>\u001b[1;34m\u001b[0m\n\u001b[0;32m     79\u001b[0m \u001b[1;31m# Make predictions with the loaded model\u001b[0m\u001b[1;33m\u001b[0m\u001b[1;33m\u001b[0m\u001b[1;33m\u001b[0m\u001b[0m\n\u001b[0;32m     80\u001b[0m \u001b[0msample_data\u001b[0m \u001b[1;33m=\u001b[0m \u001b[0mpd\u001b[0m\u001b[1;33m.\u001b[0m\u001b[0mDataFrame\u001b[0m\u001b[1;33m(\u001b[0m\u001b[1;33m{\u001b[0m\u001b[1;34m'Price'\u001b[0m\u001b[1;33m:\u001b[0m \u001b[1;33m[\u001b[0m\u001b[1;36m10.99\u001b[0m\u001b[1;33m,\u001b[0m \u001b[1;36m15.99\u001b[0m\u001b[1;33m]\u001b[0m\u001b[1;33m,\u001b[0m \u001b[1;34m'Genre'\u001b[0m\u001b[1;33m:\u001b[0m \u001b[1;33m[\u001b[0m\u001b[1;34m'Fiction'\u001b[0m\u001b[1;33m,\u001b[0m \u001b[1;34m'Non-Fiction'\u001b[0m\u001b[1;33m]\u001b[0m\u001b[1;33m}\u001b[0m\u001b[1;33m)\u001b[0m\u001b[1;33m\u001b[0m\u001b[1;33m\u001b[0m\u001b[0m\n\u001b[1;32m---> 81\u001b[1;33m \u001b[0msample_data\u001b[0m\u001b[1;33m[\u001b[0m\u001b[1;34m'Genre'\u001b[0m\u001b[1;33m]\u001b[0m \u001b[1;33m=\u001b[0m \u001b[0mlabel_encoder\u001b[0m\u001b[1;33m.\u001b[0m\u001b[0mtransform\u001b[0m\u001b[1;33m(\u001b[0m\u001b[0msample_data\u001b[0m\u001b[1;33m[\u001b[0m\u001b[1;34m'Genre'\u001b[0m\u001b[1;33m]\u001b[0m\u001b[1;33m)\u001b[0m \u001b[1;31m# need to fix this issue\u001b[0m\u001b[1;33m\u001b[0m\u001b[1;33m\u001b[0m\u001b[0m\n\u001b[0m\u001b[0;32m     82\u001b[0m \u001b[0mpredictions\u001b[0m \u001b[1;33m=\u001b[0m \u001b[0mloaded_model\u001b[0m\u001b[1;33m.\u001b[0m\u001b[0mpredict\u001b[0m\u001b[1;33m(\u001b[0m\u001b[0msample_data\u001b[0m\u001b[1;33m)\u001b[0m\u001b[1;33m\u001b[0m\u001b[1;33m\u001b[0m\u001b[0m\n\u001b[0;32m     83\u001b[0m \u001b[0mprint\u001b[0m\u001b[1;33m(\u001b[0m\u001b[0mpredictions\u001b[0m\u001b[1;33m)\u001b[0m\u001b[1;33m\u001b[0m\u001b[1;33m\u001b[0m\u001b[0m\n",
      "\u001b[1;31mNameError\u001b[0m: name 'label_encoder' is not defined"
     ]
    }
   ],
   "source": [
    "# create a new  neural network model to predict the user rating based on the price and genre\n",
    "from sklearn.model_selection import train_test_split\n",
    "from sklearn.preprocessing import LabelEncoder\n",
    "from sklearn.preprocessing import StandardScaler\n",
    "from sklearn.neural_network import MLPRegressor\n",
    "from sklearn.metrics import mean_squared_error\n",
    "from sklearn.metrics import r2_score\n",
    "from sklearn.pipeline import Pipeline\n",
    "from sklearn.compose import ColumnTransformer\n",
    "from sklearn.preprocessing import OneHotEncoder\n",
    "from sklearn.preprocessing import FunctionTransformer\n",
    "from sklearn.impute import SimpleImputer\n",
    "\n",
    "# create a function to preprocess the data\n",
    "def preprocess_data(data):\n",
    "    # Drop rows with missing values\n",
    "    data = data.dropna()\n",
    "\n",
    "    # Convert 'User Rating' to numeric\n",
    "    data['User Rating'] = pd.to_numeric(data['User Rating'], errors='coerce')\n",
    "\n",
    "    # Drop rows with missing 'User Rating'\n",
    "    data = data.dropna(subset=['User Rating'])\n",
    "\n",
    "    # define label encoder\n",
    "    # Convert 'Genre' to categorical\n",
    "    data['Genre'] = data['Genre'].astype('category')\n",
    "    # Convert 'Year' to datetime\n",
    "    data['Year'] = pd.to_datetime(data['Year'], format='%Y', errors='coerce')\n",
    "    # Drop rows with missing 'Year'\n",
    "    data = data.dropna(subset=['Year'])\n",
    "    # Convert 'Year' to numeric\n",
    "    data['Year'] = data['Year'].dt.year\n",
    "    # Drop rows with missing 'Year'\n",
    "    data = data.dropna(subset=['Year'])\n",
    "    # Convert 'Price' to numeric\n",
    "    data['Price'] = pd.to_numeric(data['Price'], errors='coerce')\n",
    "    # Drop rows with missing 'Price'\n",
    "    data = data.dropna(subset=['Price'])\n",
    "\n",
    "    # Encode categorical variables\n",
    "    label_encoder = LabelEncoder()\n",
    "    data['Genre'] = label_encoder.fit_transform(data['Genre'])\n",
    "\n",
    "    return data\n",
    "\n",
    "# preprocess the data\n",
    "data = preprocess_data(data)\n",
    "# Split the data into features and target variable\n",
    "X = data[['Price', 'Genre']]\n",
    "y = data['User Rating']\n",
    "# Split the data into training and testing sets\n",
    "X_train, X_test, y_train, y_test = train_test_split(X, y, test_size=0.2, random_state=42)\n",
    "# Create a pipeline for preprocessing and model training\n",
    "pipeline = Pipeline([\n",
    "    ('preprocessor', ColumnTransformer([\n",
    "        ('num', StandardScaler(), ['Price']),\n",
    "        ('cat', OneHotEncoder(), ['Genre'])\n",
    "    ])),\n",
    "    ('model', MLPRegressor(hidden_layer_sizes=(100,), max_iter=1000, random_state=42))\n",
    "])\n",
    "# Train the model\n",
    "pipeline.fit(X_train, y_train)\n",
    "\n",
    "# Make predictions\n",
    "y_pred = pipeline.predict(X_test)\n",
    "# Evaluate the model\n",
    "mse = mean_squared_error(y_test, y_pred)\n",
    "r2 = r2_score(y_test, y_pred)\n",
    "print(f'Mean Squared Error: {mse}')\n",
    "print(f'R^2 Score: {r2}')\n",
    "# Save the model\n",
    "import joblib\n",
    "joblib.dump(pipeline, 'bestseller_model.pkl')\n",
    "\n",
    "# Load the model\n",
    "loaded_model = joblib.load('bestseller_model.pkl')\n",
    "\n",
    "# Make predictions with the loaded model\n",
    "sample_data = pd.DataFrame({'Price': [10.99, 15.99], 'Genre': ['Fiction', 'Non-Fiction']})\n",
    "sample_data['Genre'] = label_encoder.transform(sample_data['Genre']) # need to fix this issue\n",
    "predictions = loaded_model.predict(sample_data)\n",
    "print(predictions)\n",
    "\n",
    "# create a function to predict the user rating based on the price and genre\n",
    "def predict_user_rating(price, genre):\n",
    "    # Load the model\n",
    "    loaded_model = joblib.load('bestseller_model.pkl')\n",
    "    # Create a DataFrame for the input data\n",
    "    input_data = pd.DataFrame({'Price': [price], 'Genre': [genre]})\n",
    "    # Encode the genre\n",
    "    input_data['Genre'] = label_encoder.transform(input_data['Genre'])\n",
    "    # Make predictions\n",
    "    prediction = loaded_model.predict(input_data)\n",
    "    return prediction[0]\n",
    "\n",
    "# Test the function\n",
    "predicted_rating = predict_user_rating(10.99, 'Fiction')\n",
    "print(f'Predicted User Rating for a Fiction book priced at $10.99: {predicted_rating}')\n",
    "\n",
    "# file with error need to update\n"
   ]
  },
  {
   "cell_type": "code",
   "execution_count": 6,
   "id": "fd4a399a",
   "metadata": {},
   "outputs": [
    {
     "name": "stdout",
     "output_type": "stream",
     "text": [
      "Mean Squared Error: 0.071474613329341\n",
      "R^2 Score: -0.24581218854080378\n",
      "[2.61032403 2.51951039]\n",
      "Predicted User Rating for a Fiction book priced at $10.99: 2.6103240317342142\n"
     ]
    }
   ],
   "source": [
    "from sklearn.model_selection import train_test_split\n",
    "from sklearn.preprocessing import LabelEncoder, StandardScaler, OneHotEncoder\n",
    "from sklearn.neural_network import MLPRegressor\n",
    "from sklearn.metrics import mean_squared_error, r2_score\n",
    "from sklearn.pipeline import Pipeline\n",
    "from sklearn.compose import ColumnTransformer\n",
    "import joblib\n",
    "import pandas as pd\n",
    "import numpy as np\n",
    "\n",
    "# Update the preprocess_data function to return the fitted LabelEncoder\n",
    "def preprocess_data(data):\n",
    "    # Drop rows with missing values\n",
    "    data = data.dropna()\n",
    "\n",
    "    # Convert 'User Rating' to numeric\n",
    "    data['User Rating'] = pd.to_numeric(data['User Rating'], errors='coerce')\n",
    "\n",
    "    # Drop rows with missing 'User Rating'\n",
    "    data = data.dropna(subset=['User Rating'])\n",
    "\n",
    "    # Convert 'Genre' to categorical\n",
    "    data['Genre'] = data['Genre'].astype('category')\n",
    "\n",
    "    # Convert 'Year' to datetime\n",
    "    data['Year'] = pd.to_datetime(data['Year'], format='%Y', errors='coerce')\n",
    "    data = data.dropna(subset=['Year'])\n",
    "    data['Year'] = data['Year'].dt.year\n",
    "\n",
    "    # Convert 'Price' to numeric\n",
    "    data['Price'] = pd.to_numeric(data['Price'], errors='coerce')\n",
    "    data = data.dropna(subset=['Price'])\n",
    "\n",
    "    # Encode categorical variables\n",
    "    label_encoder = LabelEncoder()\n",
    "    data['Genre'] = label_encoder.fit_transform(data['Genre'])\n",
    "\n",
    "    # Save the categories for future use\n",
    "    label_encoder.classes_ = np.append(label_encoder.classes_, ['Fiction', 'Non-Fiction'])  # Ensure all possible genres are included\n",
    "\n",
    "    return data, label_encoder\n",
    "\n",
    "# Preprocess the data and get the fitted LabelEncoder\n",
    "data = pd.read_csv('bestsellers_with_categories.csv', encoding='utf-8')\n",
    "data, label_encoder = preprocess_data(data)\n",
    "\n",
    "# Split the data into features and target variable\n",
    "X = data[['Price', 'Genre']]\n",
    "y = data['User Rating']\n",
    "\n",
    "# Split the data into training and testing sets\n",
    "X_train, X_test, y_train, y_test = train_test_split(X, y, test_size=0.2, random_state=42)\n",
    "\n",
    "# Create a pipeline for preprocessing and model training\n",
    "pipeline = Pipeline([\n",
    "    ('preprocessor', ColumnTransformer([\n",
    "        ('num', StandardScaler(), ['Price']),\n",
    "        ('cat', OneHotEncoder(handle_unknown='ignore'), ['Genre'])  # Handle unknown categories\n",
    "    ])),\n",
    "    ('model', MLPRegressor(hidden_layer_sizes=(100,), max_iter=1000, random_state=42))\n",
    "])\n",
    "\n",
    "# Train the model\n",
    "pipeline.fit(X_train, y_train)\n",
    "\n",
    "# Make predictions\n",
    "y_pred = pipeline.predict(X_test)\n",
    "\n",
    "# Evaluate the model\n",
    "mse = mean_squared_error(y_test, y_pred)\n",
    "r2 = r2_score(y_test, y_pred)\n",
    "print(f'Mean Squared Error: {mse}')\n",
    "print(f'R^2 Score: {r2}')\n",
    "\n",
    "# Save the model and the LabelEncoder\n",
    "joblib.dump(pipeline, 'bestseller_model.pkl')\n",
    "joblib.dump(label_encoder, 'label_encoder.pkl')\n",
    "\n",
    "# Load the model and LabelEncoder\n",
    "loaded_model = joblib.load('bestseller_model.pkl')\n",
    "loaded_label_encoder = joblib.load('label_encoder.pkl')\n",
    "\n",
    "# Make predictions with the loaded model\n",
    "sample_data = pd.DataFrame({'Price': [10.99, 15.99], 'Genre': ['Fiction', 'Non-Fiction']})\n",
    "sample_data['Genre'] = loaded_label_encoder.transform(sample_data['Genre'])  # Use the loaded LabelEncoder\n",
    "predictions = loaded_model.predict(sample_data)\n",
    "print(predictions)\n",
    "\n",
    "# Create a function to predict the user rating based on the price and genre\n",
    "def predict_user_rating(price, genre):\n",
    "    # Load the model and LabelEncoder\n",
    "    loaded_model = joblib.load('bestseller_model.pkl')\n",
    "    loaded_label_encoder = joblib.load('label_encoder.pkl')\n",
    "\n",
    "    # Create a DataFrame for the input data\n",
    "    input_data = pd.DataFrame({'Price': [price], 'Genre': [genre]})\n",
    "\n",
    "    # Encode the genre\n",
    "    try:\n",
    "        input_data['Genre'] = loaded_label_encoder.transform(input_data['Genre'])\n",
    "    except ValueError:\n",
    "        raise ValueError(f\"The genre '{genre}' is not recognized. Please use one of the following: {list(loaded_label_encoder.classes_)}\")\n",
    "\n",
    "    # Make predictions\n",
    "    prediction = loaded_model.predict(input_data)\n",
    "    return prediction[0]\n",
    "\n",
    "# Test the function\n",
    "predicted_rating = predict_user_rating(10.99, 'Fiction')\n",
    "print(f'Predicted User Rating for a Fiction book priced at $10.99: {predicted_rating}')"
   ]
  },
  {
   "cell_type": "code",
   "execution_count": 8,
   "id": "5466e31e",
   "metadata": {},
   "outputs": [
    {
     "data": {
      "image/png": "[encoded data removed]",
      "text/plain": [
       "<Figure size 720x432 with 1 Axes>"
      ]
     },
     "metadata": {
      "needs_background": "light"
     },
     "output_type": "display_data"
    },
    {
     "data": {
      "image/png": "[encoded data removed]",
      "text/plain": [
       "<Figure size 720x432 with 1 Axes>"
      ]
     },
     "metadata": {
      "needs_background": "light"
     },
     "output_type": "display_data"
    }
   ],
   "source": [
    "# create a graph  on the model performance\n",
    "def plot_model_performance(mse, r2):\n",
    "    plt.figure(figsize=(10, 6))\n",
    "    plt.bar(['Mean Squared Error', 'R^2 Score'], [mse, r2])\n",
    "    plt.ylabel('Score')\n",
    "    plt.title('Model Performance')\n",
    "    plt.show()\n",
    "# call plot_model_performance\n",
    "plot_model_performance(mse, r2)\n",
    "# create a function to save the model\n",
    "def save_model(model, filename):\n",
    "    joblib.dump(model, filename)\n",
    "    print(f\"Model saved to {filename}\")\n",
    "\n",
    "\n",
    "# create a chart for rsquare and mae model \n",
    "\n",
    "def plot_model_performance(mse, r2):\n",
    "    plt.figure(figsize=(10, 6))\n",
    "    plt.bar(['Mean Squared Error', 'R^2 Score'], [mse, r2])\n",
    "    plt.ylabel('Score')\n",
    "    plt.title('Model Performance')\n",
    "    plt.show()\n",
    "# call plot_model_performance\n",
    "plot_model_performance(mse, r2)\n",
    "# create a function to save the model\n",
    "def save_model(model, filename):\n",
    "    joblib.dump(model, filename)\n",
    "    print(f\"Model saved to {filename}\")"
   ]
  },
  {
   "cell_type": "code",
   "execution_count": null,
   "id": "974e1132",
   "metadata": {},
   "outputs": [],
   "source": []
  }
 ],
 "metadata": {
  "kernelspec": {
   "display_name": "Python 3",
   "language": "python",
   "name": "python3"
  },
  "language_info": {
   "codemirror_mode": {
    "name": "ipython",
    "version": 3
   },
   "file_extension": ".py",
   "mimetype": "text/x-python",
   "name": "python",
   "nbconvert_exporter": "python",
   "pygments_lexer": "ipython3",
   "version": "3.6.8"
  }
 },
 "nbformat": 4,
 "nbformat_minor": 5
}
